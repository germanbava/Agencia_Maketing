{
  "cells": [
    {
      "cell_type": "markdown",
      "metadata": {
        "id": "view-in-github",
        "colab_type": "text"
      },
      "source": [
        "<a href=\"https://colab.research.google.com/github/germanbava/Agencia_Maketing1/blob/main/cuaderno%20colab%20bueno.ipynb\" target=\"_parent\"><img src=\"https://colab.research.google.com/assets/colab-badge.svg\" alt=\"Open In Colab\"/></a>"
      ]
    },
    {
      "cell_type": "markdown",
      "source": [
        "# 1. Setup the web ui"
      ],
      "metadata": {
        "id": "bsiZpfkU7S77"
      }
    },
    {
      "cell_type": "code",
      "execution_count": null,
      "metadata": {
        "id": "sBbcB4vwj_jm",
        "colab": {
          "base_uri": "https://localhost:8080/"
        },
        "outputId": "53bfaec0-9a92-44b6-c8d3-f4adeadce789"
      },
      "outputs": [
        {
          "output_type": "stream",
          "name": "stdout",
          "text": [
            "  % Total    % Received % Xferd  Average Speed   Time    Time     Time  Current\n",
            "                                 Dload  Upload   Total   Spent    Left  Speed\n",
            "  0     0    0     0    0     0      0      0 --:--:-- --:--:-- --:--:--     0\n",
            "100  104k  100  104k    0     0   105k      0 --:--:-- --:--:-- --:--:--  105k\n",
            "Archive:  /content/memfix.zip\n",
            "  inflating: libtcmalloc_minimal.so.4  \n",
            "16 packages can be upgraded. Run 'apt list --upgradable' to see them.\n",
            "env: LD_PRELOAD=/content/libtcmalloc_minimal.so.4\n",
            "  % Total    % Received % Xferd  Average Speed   Time    Time     Time  Current\n",
            "                                 Dload  Upload   Total   Spent    Left  Speed\n",
            "100  1211  100  1211    0     0   4321      0 --:--:-- --:--:-- --:--:--  4325\n",
            "100  231M  100  231M    0     0   148M      0  0:00:01  0:00:01 --:--:--  235M\n",
            "unzip:  cannot find or open /content/microsoftexcel.zip, /content/microsoftexcel.zip.zip or /content/microsoftexcel.zip.ZIP.\n",
            "fatal: destination path '/content/microsoftexcel/extensions/microsoftexcel-tunnels' already exists and is not an empty directory.\n",
            "fatal: destination path '/content/microsoftexcel/extensions/microsoftexcel-controlnet' already exists and is not an empty directory.\n",
            "fatal: destination path '/content/microsoftexcel/extensions/openpose-editor' already exists and is not an empty directory.\n",
            "fatal: destination path '/content/microsoftexcel/extensions/microsoftexcel-3d-open-pose-editor' already exists and is not an empty directory.\n",
            "fatal: destination path '/content/microsoftexcel/extensions/a1111-microsoftexcel-tagcomplete' already exists and is not an empty directory.\n",
            "fatal: destination path '/content/microsoftexcel/extensions/a1111-microsoftexcel-locon' already exists and is not an empty directory.\n",
            "fatal: destination path '/content/microsoftexcel/extensions/adetailer' already exists and is not an empty directory.\n",
            "fatal: destination path '/content/microsoftexcel/models/adetailer' already exists and is not an empty directory.\n",
            "fatal: destination path '/content/microsoftexcel/extensions/microsoftexcel-deforum' already exists and is not an empty directory.\n",
            "fatal: destination path '/content/microsoftexcel/extensions/microsoftexcel-mov2mov' already exists and is not an empty directory.\n",
            "fatal: destination path '/content/microsoftexcel/extensions/microsoftexcel-roop' already exists and is not an empty directory.\n",
            "fatal: destination path '/content/microsoftexcel/extensions/microsoftexcel-supermerger' already exists and is not an empty directory.\n",
            "fatal: destination path '/content/microsoftexcel/extensions/TemporalKit' already exists and is not an empty directory.\n",
            "fatal: destination path '/content/microsoftexcel/extensions/ultimate-upscale-for-automatic1111' already exists and is not an empty directory.\n",
            "mkdir: cannot create directory ‘/content/microsoftexcel/models/ESRGAN’: File exists\n",
            "  % Total    % Received % Xferd  Average Speed   Time    Time     Time  Current\n",
            "                                 Dload  Upload   Total   Spent    Left  Speed\n",
            "100  1235  100  1235    0     0   6538      0 --:--:-- --:--:-- --:--:--  6569\n",
            "100 68776  100 68776    0     0   205k      0 --:--:-- --:--:-- --:--:--  205k\n",
            "  % Total    % Received % Xferd  Average Speed   Time    Time     Time  Current\n",
            "                                 Dload  Upload   Total   Spent    Left  Speed\n",
            "100  1199  100  1199    0     0   5695      0 --:--:-- --:--:-- --:--:--  5682\n",
            "100 1509k  100 1509k    0     0  3941k      0 --:--:-- --:--:-- --:--:-- 3941k\n",
            "  % Total    % Received % Xferd  Average Speed   Time    Time     Time  Current\n",
            "                                 Dload  Upload   Total   Spent    Left  Speed\n",
            "100  1201  100  1201    0     0   6283      0 --:--:-- --:--:-- --:--:--  6287\n",
            "100  118M  100  118M    0     0   170M      0 --:--:-- --:--:-- --:--:--  332M\n",
            "/content/microsoftexcel/extensions\n",
            "Archive:  /content/microsoftexcel/extensions/microsoftexcel-images-browser.zip\n",
            "replace sd-webui-images-browser/.DS_Store? [y]es, [n]o, [A]ll, [N]one, [r]ename: "
          ]
        }
      ],
      "source": [
        "!curl -Lo memfix.zip https://github.com/nolanaatama/microsoftexcel/raw/main/memfix.zip\n",
        "!unzip /content/memfix.zip\n",
        "!apt -y update -qq\n",
        "%env LD_PRELOAD=/content/libtcmalloc_minimal.so.4\n",
        "\n",
        "!curl -Lo microsoftexcel.zip https://huggingface.co/nolanaatama/colab/resolve/main/microsoftexcel151.zip\n",
        "!unzip /content/microsoftexcel.zip\n",
        "\n",
        "# Extensions Section\n",
        "!git clone https://github.com/nolanaatama/microsoftexcel-tunnels /content/microsoftexcel/extensions/microsoftexcel-tunnels\n",
        "!git clone https://github.com/nolanaatama/microsoftexcel-controlnet /content/microsoftexcel/extensions/microsoftexcel-controlnet\n",
        "!git clone https://github.com/fkunn1326/openpose-editor /content/microsoftexcel/extensions/openpose-editor\n",
        "!git clone https://github.com/nolanaatama/microsoftexcel-3d-open-pose-editor /content/microsoftexcel/extensions/microsoftexcel-3d-open-pose-editor\n",
        "!git clone https://github.com/nolanaatama/a1111-microsoftexcel-tagcomplete /content/microsoftexcel/extensions/a1111-microsoftexcel-tagcomplete\n",
        "!git clone https://github.com/nolanaatama/a1111-microsoftexcel-locon /content/microsoftexcel/extensions/a1111-microsoftexcel-locon\n",
        "# Additional Extensions\n",
        "# !After Detailer\n",
        "!git clone https://github.com/Bing-su/adetailer /content/microsoftexcel/extensions/adetailer\n",
        "!git clone https://huggingface.co/Bingsu/adetailer /content/microsoftexcel/models/adetailer\n",
        "# Deforum\n",
        "!git clone https://github.com/nolanaatama/microsoftexcel-deforum /content/microsoftexcel/extensions/microsoftexcel-deforum\n",
        "# Mov2mov\n",
        "!git clone https://github.com/nolanaatama/microsoftexcel-mov2mov /content/microsoftexcel/extensions/microsoftexcel-mov2mov\n",
        "# roop\n",
        "!git clone https://github.com/nolanaatama/microsoftexcel-roop /content/microsoftexcel/extensions/microsoftexcel-roop\n",
        "# SuperMerger\n",
        "!git clone https://github.com/nolanaatama/microsoftexcel-supermerger /content/microsoftexcel/extensions/microsoftexcel-supermerger\n",
        "# TemporalKit\n",
        "!git clone https://github.com/CiaraStrawberry/TemporalKit /content/microsoftexcel/extensions/TemporalKit\n",
        "# Ultimate SD Upscale\n",
        "!git clone https://github.com/Coyote-A/ultimate-upscale-for-automatic1111 /content/microsoftexcel/extensions/ultimate-upscale-for-automatic1111\n",
        "\n",
        "!mkdir /content/microsoftexcel/models/ESRGAN\n",
        "!curl -Lo /content/microsoftexcel/extensions/microsoftexcel-images-browser.zip https://huggingface.co/nolanaatama/colab/resolve/main/microsoftexcel-images-browser.zip\n",
        "!curl -Lo /content/microsoftexcel/embeddings/embeddings.zip https://huggingface.co/nolanaatama/colab/resolve/main/embeddings.zip\n",
        "!curl -Lo /content/microsoftexcel/models/ESRGAN/upscalers.zip https://huggingface.co/nolanaatama/colab/resolve/main/upscalers.zip\n",
        "%cd /content/microsoftexcel/extensions\n",
        "!unzip /content/microsoftexcel/extensions/microsoftexcel-images-browser.zip\n",
        "%cd /content/microsoftexcel/embeddings\n",
        "!unzip /content/microsoftexcel/embeddings/embeddings.zip\n",
        "%cd /content/microsoftexcel/models/ESRGAN\n",
        "!unzip /content/microsoftexcel/models/ESRGAN/upscalers.zip\n",
        "!rm upscalers.zip\n",
        "%cd /content\n",
        "\n",
        "# Model(s) setup\n",
        "# Below are model code for ReV Animated, we always could change it to our desired model (how-to: https://youtu.be/vj-QrS_mWQI or https://youtu.be/MwyfwPFezvY)\n",
        "!curl -Lo /content/microsoftexcel/models/Stable-diffusion/revanimated.safetensors https://huggingface.co/nolanaatama/rvnmtd/resolve/main/rvnmtd.safetensors\n",
        "!curl -Lo /content/microsoftexcel/models/Stable-diffusion/revanimated.vae.pt https://huggingface.co/nolanaatama/rvnmtd/resolve/main/rvnmtd.vae.pt\n",
        "\n",
        "# ControlNet\n",
        "# Remove '#' from the beginning of the line(s) below to download the selected ControlNet model(s)\n",
        "!curl -Lo /content/microsoftexcel/extensions/microsoftexcel-controlnet/models/control_v11e_sd15_ip2p.safetensors https://huggingface.co/nolanaatama/models/resolve/main/control_v11e_sd15_ip2p_fp16.safetensors\n",
        "!curl -Lo /content/microsoftexcel/extensions/microsoftexcel-controlnet/models/control_v11e_sd15_shuffle.safetensors https://huggingface.co/nolanaatama/models/resolve/main/control_v11e_sd15_shuffle_fp16.safetensors\n",
        "!curl -Lo /content/microsoftexcel/extensions/microsoftexcel-controlnet/models/control_v11p_sd15_canny.safetensors https://huggingface.co/nolanaatama/models/resolve/main/control_v11p_sd15_canny_fp16.safetensors\n",
        "!curl -Lo /content/microsoftexcel/extensions/microsoftexcel-controlnet/models/control_v11f1p_sd15_depth.safetensors https://huggingface.co/nolanaatama/models/resolve/main/control_v11p_sd15_depth_fp16.safetensors\n",
        "!curl -Lo /content/microsoftexcel/extensions/microsoftexcel-controlnet/models/control_v11p_sd15_inpaint.safetensors https://huggingface.co/nolanaatama/models/resolve/main/control_v11p_sd15_inpaint_fp16.safetensors\n",
        "!curl -Lo /content/microsoftexcel/extensions/microsoftexcel-controlnet/models/control_v11p_sd15_lineart.safetensors https://huggingface.co/nolanaatama/models/resolve/main/control_v11p_sd15_lineart_fp16.safetensors\n",
        "!curl -Lo /content/microsoftexcel/extensions/microsoftexcel-controlnet/models/control_v11p_sd15_mlsd.safetensors https://huggingface.co/nolanaatama/models/resolve/main/control_v11p_sd15_mlsd_fp16.safetensors\n",
        "!curl -Lo /content/microsoftexcel/extensions/microsoftexcel-controlnet/models/control_v11p_sd15_normalbae.safetensors https://huggingface.co/nolanaatama/models/resolve/main/control_v11p_sd15_normalbae_fp16.safetensors\n",
        "!curl -Lo /content/microsoftexcel/extensions/microsoftexcel-controlnet/models/control_v11p_sd15_openpose.safetensors https://huggingface.co/nolanaatama/models/resolve/main/control_v11p_sd15_openpose_fp16.safetensors\n",
        "!curl -Lo /content/microsoftexcel/extensions/microsoftexcel-controlnet/models/control_v11p_sd15_scribble.safetensors https://huggingface.co/nolanaatama/models/resolve/main/control_v11p_sd15_scribble_fp16.safetensors\n",
        "!curl -Lo /content/microsoftexcel/extensions/microsoftexcel-controlnet/models/control_v11p_sd15_seg.safetensors https://huggingface.co/nolanaatama/models/resolve/main/control_v11p_sd15_seg_fp16.safetensors\n",
        "!curl -Lo /content/microsoftexcel/extensions/microsoftexcel-controlnet/models/control_v11p_sd15_softedge.safetensors https://huggingface.co/nolanaatama/models/resolve/main/control_v11p_sd15_softedge_fp16.safetensors\n",
        "!curl -Lo /content/microsoftexcel/extensions/microsoftexcel-controlnet/models/control_v11p_sd15s2_lineart_anime.safetensors https://huggingface.co/nolanaatama/models/resolve/main/control_v11p_sd15s2_lineart_anime_fp16.safetensors\n",
        "!curl -Lo /content/microsoftexcel/extensions/microsoftexcel-controlnet/models/control_v11f1e_sd15_tile.safetensors https://huggingface.co/nolanaatama/models/resolve/main/control_v11f1e_sd15_tile_fp16.safetensors\n",
        "!curl -Lo /content/microsoftexcel/extensions/microsoftexcel-controlnet/models/t2iadapter_canny_sd14v1.pth https://huggingface.co/nolanaatama/models/resolve/main/t2iadapter_canny_sd14v1.pth\n",
        "!curl -Lo /content/microsoftexcel/extensions/microsoftexcel-controlnet/models/t2iadapter_color_sd14v1.pth https://huggingface.co/nolanaatama/models/resolve/main/t2iadapter_color_sd14v1.pth\n",
        "!curl -Lo /content/microsoftexcel/extensions/microsoftexcel-controlnet/models/t2iadapter_depth_sd14v1.pth https://huggingface.co/nolanaatama/models/resolve/main/t2iadapter_depth_sd14v1.pth\n",
        "!curl -Lo /content/microsoftexcel/extensions/microsoftexcel-controlnet/models/t2iadapter_keypose_sd14v1.pth https://huggingface.co/nolanaatama/models/resolve/main/t2iadapter_keypose_sd14v1.pth\n",
        "!curl -Lo /content/microsoftexcel/extensions/microsoftexcel-controlnet/models/t2iadapter_openpose_sd14v1.pth https://huggingface.co/nolanaatama/models/resolve/main/t2iadapter_openpose_sd14v1.pth\n",
        "!curl -Lo /content/microsoftexcel/extensions/microsoftexcel-controlnet/models/t2iadapter_seg_sd14v1.pth https://huggingface.co/nolanaatama/models/resolve/main/t2iadapter_seg_sd14v1.pth\n",
        "!curl -Lo /content/microsoftexcel/extensions/microsoftexcel-controlnet/models/t2iadapter_sketch_sd14v1.pth https://huggingface.co/nolanaatama/models/resolve/main/t2iadapter_sketch_sd14v1.pth\n",
        "!curl -Lo /content/microsoftexcel/extensions/microsoftexcel-controlnet/models/t2iadapter_style_sd14v1.pth https://huggingface.co/nolanaatama/models/resolve/main/t2iadapter_style_sd14v1.pth\n",
        "!rm microsoftexcel.zip\n",
        "%cd /content/microsoftexcel\n",
        "\n",
        "# Web UI tunnel\n",
        "!COMMANDLINE_ARGS=\"--share --disable-safe-unpickle --no-half-vae --xformers --enable-insecure-extension --gradio-queue\" REQS_FILE=\"requirements.txt\" python launch.py\n",
        "# Use this command below to use cloudflare tunnel\n",
        "#!COMMANDLINE_ARGS=\"--disable-safe-unpickle --no-half-vae --xformers --enable-insecure-extension --gradio-queue --cloudflared\" REQS_FILE=\"requirements.txt\" python launch.py"
      ]
    },
    {
      "cell_type": "markdown",
      "source": [
        "# 2. After the gradio link show up, stop the first cell & clear the code output👆"
      ],
      "metadata": {
        "id": "JUtPlg328avv"
      }
    },
    {
      "cell_type": "markdown",
      "source": [
        "# 3. Load the LoRA & launch the web ui"
      ],
      "metadata": {
        "id": "qxhOCPrg7WXm"
      }
    },
    {
      "cell_type": "code",
      "source": [
        "# Detail Tweaker\n",
        "#!curl -Lo /content/microsoftexcel/models/Lora/detailtweaker.safetensors https://huggingface.co/nolanaatama/dtltwkr/resolve/main/dtltwkr.safetensors\n",
        "\n",
        "# Add More Details\n",
        "#!curl -Lo /content/microsoftexcel/models/Lora/addmoredetails.safetensors https://huggingface.co/nolanaatama/ddmrdtls/resolve/main/ddmrdtls.safetensors\n",
        "\n",
        "# LoRA Code\n",
        "!curl -Lo /content/microsoftexcel/models/Lora/3drenderingstyle.safetensors https://huggingface.co/nolanaatama/3drndrngstyl/resolve/main/3drndrngstyl.safetensors\n",
        "\n",
        "\n",
        "# Web UI tunnel\n",
        "!COMMANDLINE_ARGS=\"--share --disable-safe-unpickle --no-half-vae --xformers --enable-insecure-extension --gradio-queue\" REQS_FILE=\"requirements.txt\" python launch.py\n",
        "# Use this command below to use cloudflare tunnel\n",
        "#!COMMANDLINE_ARGS=\"--disable-safe-unpickle --no-half-vae --xformers --enable-insecure-extension --gradio-queue --cloudflared\" REQS_FILE=\"requirements.txt\" python launch.py"
      ],
      "metadata": {
        "id": "pZVeLcbD70Lf"
      },
      "execution_count": null,
      "outputs": []
    },
    {
      "cell_type": "markdown",
      "metadata": {
        "id": "fhwIXzcgfkoR"
      },
      "source": [
        "# 📚 GitHub for more: [_@nolanaatama_](https://github.com/nolanaatama)\n",
        "# 📦 Repo: [Github](https://github.com/nolanaatama/sd-1click-colab)"
      ]
    }
  ],
  "metadata": {
    "accelerator": "GPU",
    "colab": {
      "provenance": [],
      "include_colab_link": true
    },
    "gpuClass": "standard",
    "kernelspec": {
      "display_name": "Python 3",
      "name": "python3"
    },
    "language_info": {
      "name": "python"
    }
  },
  "nbformat": 4,
  "nbformat_minor": 0
}